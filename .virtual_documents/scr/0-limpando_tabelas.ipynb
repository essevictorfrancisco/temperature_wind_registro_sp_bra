from limpar_csv_new import *








iguape_epw = epw_to_pandas(
    '../climate_raw/BRA_SP_Iguape.869230_TMYx.2009-2023.epw'
)

iguape_alltime = slice_dataframe(
    dataframe=iguape_epw,
    columns=[
        'Datetime', 'Dry Bulb Temperature', 'Relative Humidity',
        'Wind Speed', 'Wind Direction', 'Liquid Precipitation Depth'
    ],
    name='iguape_all_hours'
)

iguape_alltime.columns = [
    'Datetime', 'Temp', 'Umi', 'Vel_vento', 'Dir_vento', 'Chuva'
]

# save_as_csv(iguape_alltime, '../tmp/')

del iguape_epw





iguape_10p_cold = slice_sorted_dataframe(
    dataframe=iguape_alltime,
    sort_by='Temp',
    ascending=True,
    percent=0.1,
    name='iguape_cold_hours'
)

iguape_10p_hot = slice_sorted_dataframe(
    dataframe=iguape_alltime,
    sort_by='Temp',
    ascending=False,
    percent=0.1,
    name='iguape_hot_hours'
)





# pasta onde salvar os arquivos limpos
folder = '../climate_csv/'

for df in (iguape_alltime, iguape_10p_cold, iguape_10p_hot):
    save_as_csv(df, folder)








# listando os arquivos do INMET
inmet_2019 = {'inmet_2019':('a712_iguape_2019a','a712_iguape_2019b')}
inmet_2020 = {'inmet_2020':('a712_iguape_2020a','a712_iguape_2020b')}
inmet_2021 = {'inmet_2021':('a712_iguape_2021a','a712_iguape_2021b')}
inmet_2022 = {'inmet_2022':('a712_iguape_2022a','a712_iguape_2022b')}
inmet_2023 = {'inmet_2023':('a712_iguape_2023a','a712_iguape_2023b')}
inmet_2024 = {'inmet_2024':('a712_iguape_2024a','a712_iguape_2024b')}

inmet_dados = (
    inmet_2019,inmet_2020,inmet_2021,inmet_2022,inmet_2023,inmet_2024
)

# definindo as pasta de importação e exportação
import_folder = '../inmet_raw/'
export_folder = '../climate_csv/'

for item in inmet_dados:
    for key in item.keys():
        df1 = inmet_to_pandas(f'{import_folder}{item[key][0]}.csv')
        df2 = inmet_to_pandas(f'{import_folder}{item[key][1]}.csv')
        # juntando os dataframes
        df3 = pd.concat([df1,df2])
        # dando um nome para o dataframe
        df3.attrs['Name'] = key
        # selecionando as colunas usadas
        df3 = df3[[
            'Datetime', 'Temp. Ins. (C)', 'Umi. Ins. (%)', 'Vel. Vento (m/s)',
            'Dir. Vento (m/s)', 'Chuva (mm)'
        ]]
        # renomeando as colunas
        df3.columns = [
            'Datetime', 'Temp', 'Umi', 'Vel_vento', 'Dir_vento', 'Chuva'
        ]
        # preenchedo os valores vazios
        df3.fillna(value=0, inplace=True)
        
        save_as_csv(df3,export_folder)


























plotar_rosa_dos_ventos(iguape_epw, titulo='Todos os Dias')





plotar_rosa_dos_ventos(iguape20min, titulo='Horas 10% Mais Frias')





plotar_rosa_dos_ventos(iguape20max, titulo='Horas 10% Mais Quentes')








import pandas as pd
import matplotlib.pyplot as plt
import numpy as np

def plotar_rosa_dos_ventos(df: pd.DataFrame, titulo: str = 'Rosa dos Ventos') -> None:
    """
    Gera gráfico tipo rosa dos ventos (wind rose) a partir de DataFrame com colunas específicas.
    
    Parâmetros:
        df (pd.DataFrame): DataFrame contendo colunas 'Wind Direction' e 'Wind Speed'
        titulo (str): Título do gráfico
        
    Retorno:
        None (exibe o gráfico)
    """
    # Verificação das colunas necessárias
    colunas_necessarias = {'Wind Direction', 'Wind Speed'}
    if not colunas_necessarias.issubset(df.columns):
        raise ValueError(f"DataFrame precisa conter colunas: {colunas_necessarias}")
    
    # Configuração das bins
    direcoes_bins = np.arange(0, 375, 15)  # 0-360° em passos de 15°
    velocidades_bins = [0, 5, 10, 15, 20, 25, 30]
    cores = ['#1f77b4', '#ff7f0e', '#2ca02c', '#d62728', '#9467bd', '#8c564b']
    
    # Criação de categorias
    df = df.copy()
    df['Direção_Cat'] = pd.cut(
        df['Wind Direction'],
        bins=direcoes_bins,
        right=False
    )
    df['Velocidade_Cat'] = pd.cut(df['Wind Speed'], bins=velocidades_bins)
    
    # Agrupamento corrigido (observed=False para FutureWarning)
    grupos = df.groupby(
        ['Direção_Cat', 'Velocidade_Cat'], 
        observed=False  # Adicionado para suprimir warning
    ).size().unstack(fill_value=0)
    
    # Configuração do gráfico polar
    fig = plt.figure(figsize=(10, 8))
    ax = fig.add_subplot(111, polar=True)
    ax.set_theta_zero_location('N')
    ax.set_theta_direction(-1)
    
    # Conversão para radianos (ajuste de 7.5° para centralizar nas bins)
    angulos = np.deg2rad(direcoes_bins[:-1] + 7.5)
    
    # Plotagem das barras empilhadas
    bottom = np.zeros(len(angulos))
    for idx, velocidade in enumerate(grupos.columns):
        valores = grupos[velocidade].values
        ax.bar(
            x=angulos,
            height=valores,
            width=np.deg2rad(15),
            bottom=bottom,
            color=cores[idx],
            edgecolor='black',
            label=f'{velocidade.left}-{velocidade.right} m/s'
        )
        bottom += valores
    
    # Correção dos rótulos (24 ticks → 24 labels)
    ax.set_xticks(np.deg2rad(np.arange(0, 360, 15)))
    ax.set_xticklabels([
        'N' if i == 0 else 
        'E' if i == 90 else 
        'S' if i == 180 else 
        'O' if i == 270 else 
        '' for i in np.arange(0, 360, 15)
    ])
    
    ax.set_title(titulo, pad=35, fontsize=14)
    ax.legend(bbox_to_anchor=(1.15, 1), loc='upper left', title='Velocidade do Vento')
    
    plt.show()


plotar_rosa_dos_ventos(iguape20max, titulo='Horas 10% Mais Quentes')



