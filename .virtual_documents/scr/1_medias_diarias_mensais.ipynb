


from processamento_dados import *


import_folder = '../climate_csv/'
export_folder = '../climate_csv/'
csv_name = 'iguape_all_hours'

my_csv = {'iguape_epw': 'iguape_all_hours',
          'inmet_2019': 'inmet_2019',
          'inmet_2020': 'inmet_2020',
          'inmet_2021': 'inmet_2021',
          'inmet_2022': 'inmet_2022',
          'inmet_2023': 'inmet_2023',
          'inmet_2024': 'inmet_2024',
         }

periodos = {'diaria': 'D', 'semanal': 'W', 'mensal': 'ME'}
datetime_column = 'Datetime'

for key, value in my_csv.items():
    print(f'Carregando {value}.csv')
    df = pd.read_csv(f'{import_folder}{csv_name}.csv',parse_dates=True)
    df[datetime_column] = pd.to_datetime(df[datetime_column])
    df.set_index(datetime_column, inplace=True)
    for name, period in periodos.items():
        print(f'Calcular média {name} de {value}.csv')
        new_df = calculate_metrics_by_period(
            df=df,
            period=period,
            df_name=f'{key}_{name}'
        )
        new_df.to_csv(f'{export_folder}{key}_{name}.csv')


from limpar_csv import *


csv_path = '../inmet_raw/a712_iguape_2022a.csv'


df = inmet_to_pandas(csv_path)


df.shape


df[df['Temp. Ins. (C)'].notna()].fillna(0).shape


aggregations = {
        'Temp': ['max', 'min', 'mean','std','median'],
        'Umi': ['max', 'min', 'mean','std','median'],
        'Vel_vento': ['max', 'min', 'mean','std','median'],
        'Dir_vento': ['mean','std','median'],
        'Chuva': ['sum','std']
    }


list(aggregations.keys())[0]


aggregations.items()[0][0]


df.fillna()
