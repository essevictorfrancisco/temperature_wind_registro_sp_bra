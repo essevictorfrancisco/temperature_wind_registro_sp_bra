import main


import pandas as pd

df = pd.DataFrame([[]])


df.dropna()



