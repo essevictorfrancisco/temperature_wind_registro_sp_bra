{
 "cells": [
  {
   "cell_type": "markdown",
   "id": "246c5bb4-69d2-4553-b815-c38ca5950481",
   "metadata": {},
   "source": [
    "# Rosa dos ventos"
   ]
  },
  {
   "cell_type": "code",
   "execution_count": 1,
   "id": "888b18e0-b89b-4664-830c-184b362317a6",
   "metadata": {},
   "outputs": [],
   "source": [
    "from rosa_dos_ventos import *"
   ]
  },
  {
   "cell_type": "markdown",
   "id": "f6a12b1e-ffaa-4fca-9432-9aa2b29fe16e",
   "metadata": {},
   "source": [
    "## EPW o ano todo"
   ]
  },
  {
   "cell_type": "code",
   "execution_count": null,
   "id": "3f491cd0-57dd-4e11-8939-c69d479b9739",
   "metadata": {},
   "outputs": [],
   "source": [
    "plotar_rosa_dos_ventos(iguape_epw, titulo='Todos os Dias')"
   ]
  },
  {
   "cell_type": "markdown",
   "id": "958b509a-46d1-41e5-8700-d932c2b7f317",
   "metadata": {},
   "source": [
    "## EPW 20% mais frio"
   ]
  },
  {
   "cell_type": "code",
   "execution_count": null,
   "id": "40e92374-11fb-4fc8-b212-dbba5bd44ab9",
   "metadata": {},
   "outputs": [],
   "source": [
    "plotar_rosa_dos_ventos(iguape20min, titulo='Horas 10% Mais Frias')"
   ]
  },
  {
   "cell_type": "markdown",
   "id": "3019d04d-b563-4f2f-a712-41ef2908cc0e",
   "metadata": {},
   "source": [
    "## EPW 20% mais quente"
   ]
  },
  {
   "cell_type": "code",
   "execution_count": null,
   "id": "6ff6d7bd-b467-498e-b224-53cc88caacf0",
   "metadata": {},
   "outputs": [],
   "source": [
    "plotar_rosa_dos_ventos(iguape20max, titulo='Horas 10% Mais Quentes')"
   ]
  }
 ],
 "metadata": {
  "kernelspec": {
   "display_name": "Python 3 (ipykernel)",
   "language": "python",
   "name": "python3"
  },
  "language_info": {
   "codemirror_mode": {
    "name": "ipython",
    "version": 3
   },
   "file_extension": ".py",
   "mimetype": "text/x-python",
   "name": "python",
   "nbconvert_exporter": "python",
   "pygments_lexer": "ipython3",
   "version": "3.12.5"
  }
 },
 "nbformat": 4,
 "nbformat_minor": 5
}
