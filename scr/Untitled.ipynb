{
 "cells": [
  {
   "cell_type": "code",
   "execution_count": 1,
   "id": "7f23cf4e-862b-46ac-975a-8f37f7d88ca6",
   "metadata": {},
   "outputs": [
    {
     "name": "stdout",
     "output_type": "stream",
     "text": [
      "iguape_all_hours foi salvo.\n",
      "iguape_cold_hours foi salvo.\n",
      "iguape_hot_hours foi salvo.\n",
      "inmet_2019 foi salvo.\n",
      "inmet_2020 foi salvo.\n",
      "inmet_2021 foi salvo.\n",
      "inmet_2022 foi salvo.\n",
      "inmet_2023 foi salvo.\n",
      "inmet_2024 foi salvo.\n",
      "Carregando iguape_all_hours.csv\n",
      "Calcular média diaria de iguape_all_hours.csv\n",
      "iguape_epw_diaria tem 366 linhas e 20 colunas.\n",
      "Calcular média semanal de iguape_all_hours.csv\n",
      "iguape_epw_semanal tem 53 linhas e 20 colunas.\n",
      "Calcular média mensal de iguape_all_hours.csv\n",
      "iguape_epw_mensal tem 12 linhas e 20 colunas.\n",
      "Carregando inmet_2019.csv\n",
      "Calcular média diaria de inmet_2019.csv\n",
      "inmet_2019_diaria tem 365 linhas e 20 colunas.\n",
      "Calcular média semanal de inmet_2019.csv\n",
      "inmet_2019_semanal tem 53 linhas e 20 colunas.\n",
      "Calcular média mensal de inmet_2019.csv\n",
      "inmet_2019_mensal tem 12 linhas e 20 colunas.\n",
      "Carregando inmet_2020.csv\n",
      "Calcular média diaria de inmet_2020.csv\n",
      "inmet_2020_diaria tem 366 linhas e 20 colunas.\n",
      "Calcular média semanal de inmet_2020.csv\n",
      "inmet_2020_semanal tem 53 linhas e 20 colunas.\n",
      "Calcular média mensal de inmet_2020.csv\n",
      "inmet_2020_mensal tem 12 linhas e 20 colunas.\n",
      "Carregando inmet_2021.csv\n",
      "Calcular média diaria de inmet_2021.csv\n",
      "inmet_2021_diaria tem 358 linhas e 20 colunas.\n",
      "Calcular média semanal de inmet_2021.csv\n",
      "inmet_2021_semanal tem 52 linhas e 20 colunas.\n",
      "Calcular média mensal de inmet_2021.csv\n",
      "inmet_2021_mensal tem 12 linhas e 20 colunas.\n",
      "Carregando inmet_2022.csv\n",
      "Calcular média diaria de inmet_2022.csv\n",
      "inmet_2022_diaria tem 363 linhas e 20 colunas.\n",
      "Calcular média semanal de inmet_2022.csv\n",
      "inmet_2022_semanal tem 52 linhas e 20 colunas.\n",
      "Calcular média mensal de inmet_2022.csv\n",
      "inmet_2022_mensal tem 12 linhas e 20 colunas.\n",
      "Carregando inmet_2023.csv\n",
      "Calcular média diaria de inmet_2023.csv\n",
      "inmet_2023_diaria tem 365 linhas e 20 colunas.\n",
      "Calcular média semanal de inmet_2023.csv\n",
      "inmet_2023_semanal tem 53 linhas e 20 colunas.\n",
      "Calcular média mensal de inmet_2023.csv\n",
      "inmet_2023_mensal tem 12 linhas e 20 colunas.\n",
      "Carregando inmet_2024.csv\n",
      "Calcular média diaria de inmet_2024.csv\n",
      "inmet_2024_diaria tem 366 linhas e 20 colunas.\n",
      "Calcular média semanal de inmet_2024.csv\n",
      "inmet_2024_semanal tem 53 linhas e 20 colunas.\n",
      "Calcular média mensal de inmet_2024.csv\n",
      "inmet_2024_mensal tem 12 linhas e 20 colunas.\n"
     ]
    }
   ],
   "source": [
    "import main"
   ]
  },
  {
   "cell_type": "code",
   "execution_count": 2,
   "id": "0173e7d2-fa2e-4b87-985e-9e98e1cd5c28",
   "metadata": {},
   "outputs": [],
   "source": [
    "import pandas as pd\n",
    "\n",
    "df = pd.DataFrame([[]])"
   ]
  },
  {
   "cell_type": "code",
   "execution_count": 3,
   "id": "9f88b0c3-4456-4913-bb5d-9e353b1aa36e",
   "metadata": {},
   "outputs": [
    {
     "data": {
      "text/html": [
       "<div>\n",
       "<style scoped>\n",
       "    .dataframe tbody tr th:only-of-type {\n",
       "        vertical-align: middle;\n",
       "    }\n",
       "\n",
       "    .dataframe tbody tr th {\n",
       "        vertical-align: top;\n",
       "    }\n",
       "\n",
       "    .dataframe thead th {\n",
       "        text-align: right;\n",
       "    }\n",
       "</style>\n",
       "<table border=\"1\" class=\"dataframe\">\n",
       "  <thead>\n",
       "    <tr style=\"text-align: right;\">\n",
       "      <th></th>\n",
       "    </tr>\n",
       "  </thead>\n",
       "  <tbody>\n",
       "    <tr>\n",
       "      <th>0</th>\n",
       "    </tr>\n",
       "  </tbody>\n",
       "</table>\n",
       "</div>"
      ],
      "text/plain": [
       "Empty DataFrame\n",
       "Columns: []\n",
       "Index: [0]"
      ]
     },
     "execution_count": 3,
     "metadata": {},
     "output_type": "execute_result"
    }
   ],
   "source": [
    "df.dropna()"
   ]
  },
  {
   "cell_type": "code",
   "execution_count": null,
   "id": "2f384d5b-d578-49b3-9e92-1c2c603a22a8",
   "metadata": {},
   "outputs": [],
   "source": []
  }
 ],
 "metadata": {
  "kernelspec": {
   "display_name": "Python 3 (ipykernel)",
   "language": "python",
   "name": "python3"
  },
  "language_info": {
   "codemirror_mode": {
    "name": "ipython",
    "version": 3
   },
   "file_extension": ".py",
   "mimetype": "text/x-python",
   "name": "python",
   "nbconvert_exporter": "python",
   "pygments_lexer": "ipython3",
   "version": "3.11.7"
  }
 },
 "nbformat": 4,
 "nbformat_minor": 5
}
