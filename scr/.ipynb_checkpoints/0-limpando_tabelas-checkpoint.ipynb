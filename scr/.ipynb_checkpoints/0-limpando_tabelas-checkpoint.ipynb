{
 "cells": [
  {
   "cell_type": "code",
   "execution_count": 1,
   "id": "6737dbe1-c730-419b-8ea1-a508b2b88891",
   "metadata": {},
   "outputs": [],
   "source": [
    "from limpar_csv_new import *"
   ]
  },
  {
   "cell_type": "markdown",
   "id": "ff1e364c-5b21-4e8a-acea-871f522185c7",
   "metadata": {},
   "source": [
    "# Manipulando o arquivo EPW"
   ]
  },
  {
   "cell_type": "markdown",
   "id": "1a57eadd-30a2-40d3-9cfc-91255e7a64b8",
   "metadata": {},
   "source": [
    "## Limpando os arquivos EPW"
   ]
  },
  {
   "cell_type": "code",
   "execution_count": 2,
   "id": "2e4c81dd-c372-4ca6-aad0-f11ce4b70fe7",
   "metadata": {},
   "outputs": [],
   "source": [
    "iguape_epw = epw_to_pandas(\n",
    "    '../climate_raw/BRA_SP_Iguape.869230_TMYx.2009-2023.epw'\n",
    ")\n",
    "\n",
    "iguape_alltime = slice_dataframe(\n",
    "    dataframe=iguape_epw,\n",
    "    columns=[\n",
    "        'Datetime', 'Dry Bulb Temperature', 'Relative Humidity',\n",
    "        'Wind Speed', 'Wind Direction', 'Liquid Precipitation Quantity'\n",
    "    ],\n",
    "    name='iguape_all_hours'\n",
    ")\n",
    "\n",
    "iguape_alltime.columns = [\n",
    "    'Datetime', 'Temp', 'Umi', 'Vel_vento', 'Dir_vento', 'Chuva'\n",
    "]\n",
    "\n",
    "# save_as_csv(iguape_alltime, '../tmp/')\n",
    "\n",
    "del iguape_epw"
   ]
  },
  {
   "cell_type": "markdown",
   "id": "5a7d90cb-1f59-41f1-bb1e-8bb52e4146c0",
   "metadata": {},
   "source": [
    "## Criando os DF das Horas mais quentes e frias"
   ]
  },
  {
   "cell_type": "code",
   "execution_count": 3,
   "id": "7d1823f4-f96b-408f-811e-479345f044bf",
   "metadata": {},
   "outputs": [],
   "source": [
    "iguape_10p_cold = slice_sorted_dataframe(\n",
    "    dataframe=iguape_alltime,\n",
    "    sort_by='Temp',\n",
    "    ascending=True,\n",
    "    percent=0.1,\n",
    "    name='iguape_cold_hours'\n",
    ")\n",
    "\n",
    "iguape_10p_hot = slice_sorted_dataframe(\n",
    "    dataframe=iguape_alltime,\n",
    "    sort_by='Temp',\n",
    "    ascending=False,\n",
    "    percent=0.1,\n",
    "    name='iguape_hot_hours'\n",
    ")"
   ]
  },
  {
   "cell_type": "markdown",
   "id": "4b07a8e4-10ac-4b68-934a-9768b94a21c0",
   "metadata": {},
   "source": [
    "## Salvando os DF como CSV"
   ]
  },
  {
   "cell_type": "code",
   "execution_count": 4,
   "id": "fb7e916b-64c0-419d-9f44-4743d3589c94",
   "metadata": {},
   "outputs": [],
   "source": [
    "# pasta onde salvar os arquivos limpos\n",
    "folder = '../climate_csv/'\n",
    "\n",
    "for df in (iguape_alltime, iguape_10p_cold, iguape_10p_hot):\n",
    "    save_as_csv(df, folder)"
   ]
  },
  {
   "cell_type": "markdown",
   "id": "674153f9-07d6-4e6d-80fd-52e38d7baf84",
   "metadata": {},
   "source": [
    "# Manipulando arquivos INMET"
   ]
  },
  {
   "cell_type": "markdown",
   "id": "d47e7aa2-6427-4458-bdfe-4edf660c0d33",
   "metadata": {},
   "source": [
    "## Juntando os dados de um ano no CSV"
   ]
  },
  {
   "cell_type": "code",
   "execution_count": 5,
   "id": "6182f097-781b-4d4e-a16f-3049adf62b25",
   "metadata": {},
   "outputs": [],
   "source": [
    "# listando os arquivos do INMET\n",
    "inmet_2019 = {'inmet_2019':('a712_iguape_2019a','a712_iguape_2019b')}\n",
    "inmet_2020 = {'inmet_2020':('a712_iguape_2020a','a712_iguape_2020b')}\n",
    "inmet_2021 = {'inmet_2021':('a712_iguape_2021a','a712_iguape_2021b')}\n",
    "inmet_2022 = {'inmet_2022':('a712_iguape_2022a','a712_iguape_2022b')}\n",
    "inmet_2023 = {'inmet_2023':('a712_iguape_2023a','a712_iguape_2023b')}\n",
    "inmet_2024 = {'inmet_2024':('a712_iguape_2024a','a712_iguape_2024b')}\n",
    "\n",
    "inmet_dados = (\n",
    "    inmet_2019,inmet_2020,inmet_2021,inmet_2022,inmet_2023,inmet_2024\n",
    ")\n",
    "\n",
    "# definindo as pasta de importação e exportação\n",
    "import_folder = '../inmet_raw/'\n",
    "export_folder = '../climate_csv/'\n",
    "\n",
    "for item in inmet_dados:\n",
    "    for key in item.keys():\n",
    "        df1 = inmet_to_pandas(f'{import_folder}{item[key][0]}.csv')\n",
    "        df2 = inmet_to_pandas(f'{import_folder}{item[key][1]}.csv')\n",
    "        # juntando os dataframes\n",
    "        df3 = pd.concat([df1,df2])\n",
    "        # dando um nome para o dataframe\n",
    "        df3.attrs['Name'] = key\n",
    "        # selecionando as colunas usadas\n",
    "        df3 = df3[[\n",
    "            'Datetime', 'Temp. Ins. (C)', 'Umi. Ins. (%)', 'Vel. Vento (m/s)',\n",
    "            'Dir. Vento (m/s)', 'Chuva (mm)'\n",
    "        ]]\n",
    "        # renomeando as colunas\n",
    "        df3.columns = [\n",
    "            'Datetime', 'Temp', 'Umi', 'Vel_vento', 'Dir_vento', 'Chuva'\n",
    "        ]\n",
    "        # preenchedo os valores vazios\n",
    "        df3.fillna(value=0, inplace=True)\n",
    "        \n",
    "        save_as_csv(df3,export_folder)"
   ]
  },
  {
   "cell_type": "code",
   "execution_count": null,
   "id": "c5e43d0e-101e-4189-ae33-8cb3bede4242",
   "metadata": {},
   "outputs": [],
   "source": []
  },
  {
   "cell_type": "code",
   "execution_count": null,
   "id": "73f4f6b4-dc7c-4fd4-a4c3-d7aab4024953",
   "metadata": {},
   "outputs": [],
   "source": []
  },
  {
   "cell_type": "code",
   "execution_count": null,
   "id": "a0385e67-56fb-431b-9955-88df30945beb",
   "metadata": {},
   "outputs": [],
   "source": []
  },
  {
   "cell_type": "code",
   "execution_count": null,
   "id": "83a3b359-8866-437f-bfe8-64f3f94e1f6f",
   "metadata": {},
   "outputs": [],
   "source": []
  },
  {
   "cell_type": "code",
   "execution_count": null,
   "id": "67369556-ec76-4abf-97f2-c2457b7b8047",
   "metadata": {},
   "outputs": [],
   "source": []
  },
  {
   "cell_type": "code",
   "execution_count": null,
   "id": "5bba10b6-a2ea-4d3e-ae6b-813323a8aa6e",
   "metadata": {},
   "outputs": [],
   "source": []
  },
  {
   "cell_type": "markdown",
   "id": "df72b825-7045-4500-802b-89bbf42e63ac",
   "metadata": {},
   "source": [
    "# Rosa dos ventos"
   ]
  },
  {
   "cell_type": "markdown",
   "id": "f67e25aa-5e57-4da6-be82-def06d1561e7",
   "metadata": {},
   "source": [
    "## EPW o ano todo"
   ]
  },
  {
   "cell_type": "code",
   "execution_count": 6,
   "id": "711b13f9-c767-4924-8734-08e3cac897b2",
   "metadata": {},
   "outputs": [
    {
     "ename": "NameError",
     "evalue": "name 'plotar_rosa_dos_ventos' is not defined",
     "output_type": "error",
     "traceback": [
      "\u001b[1;31m---------------------------------------------------------------------------\u001b[0m",
      "\u001b[1;31mNameError\u001b[0m                                 Traceback (most recent call last)",
      "Cell \u001b[1;32mIn[6], line 1\u001b[0m\n\u001b[1;32m----> 1\u001b[0m plotar_rosa_dos_ventos(iguape_epw, titulo\u001b[38;5;241m=\u001b[39m\u001b[38;5;124m'\u001b[39m\u001b[38;5;124mTodos os Dias\u001b[39m\u001b[38;5;124m'\u001b[39m)\n",
      "\u001b[1;31mNameError\u001b[0m: name 'plotar_rosa_dos_ventos' is not defined"
     ]
    }
   ],
   "source": [
    "plotar_rosa_dos_ventos(iguape_epw, titulo='Todos os Dias')"
   ]
  },
  {
   "cell_type": "markdown",
   "id": "540cfbb1-4127-41f4-ac81-49fed6275193",
   "metadata": {},
   "source": [
    "## EPW 20% mais frio"
   ]
  },
  {
   "cell_type": "code",
   "execution_count": null,
   "id": "6295d1f3-c31d-453a-8e0f-704f20785eb9",
   "metadata": {},
   "outputs": [],
   "source": [
    "plotar_rosa_dos_ventos(iguape20min, titulo='Horas 10% Mais Frias')"
   ]
  },
  {
   "cell_type": "markdown",
   "id": "24995a65-f4e2-41cd-877d-b48a47c037dc",
   "metadata": {},
   "source": [
    "## EPW 20% mais quente"
   ]
  },
  {
   "cell_type": "code",
   "execution_count": null,
   "id": "786a7197-b402-4558-b952-1480b29a57cf",
   "metadata": {},
   "outputs": [],
   "source": [
    "plotar_rosa_dos_ventos(iguape20max, titulo='Horas 10% Mais Quentes')"
   ]
  },
  {
   "cell_type": "markdown",
   "id": "4b04f9ad-9027-4d65-9540-79032ac2116d",
   "metadata": {},
   "source": [
    "## Esse efeito também aparece nos dados do INMET?"
   ]
  },
  {
   "cell_type": "markdown",
   "id": "f794c4ac-7064-47b3-b401-4cac6871c03b",
   "metadata": {},
   "source": [
    "# Teste"
   ]
  },
  {
   "cell_type": "code",
   "execution_count": null,
   "id": "30de244e-6e2d-4676-8318-db29d5b8df6c",
   "metadata": {},
   "outputs": [],
   "source": [
    "import pandas as pd\n",
    "import matplotlib.pyplot as plt\n",
    "import numpy as np\n",
    "\n",
    "def plotar_rosa_dos_ventos(df: pd.DataFrame, titulo: str = 'Rosa dos Ventos') -> None:\n",
    "    \"\"\"\n",
    "    Gera gráfico tipo rosa dos ventos (wind rose) a partir de DataFrame com colunas específicas.\n",
    "    \n",
    "    Parâmetros:\n",
    "        df (pd.DataFrame): DataFrame contendo colunas 'Wind Direction' e 'Wind Speed'\n",
    "        titulo (str): Título do gráfico\n",
    "        \n",
    "    Retorno:\n",
    "        None (exibe o gráfico)\n",
    "    \"\"\"\n",
    "    # Verificação das colunas necessárias\n",
    "    colunas_necessarias = {'Wind Direction', 'Wind Speed'}\n",
    "    if not colunas_necessarias.issubset(df.columns):\n",
    "        raise ValueError(f\"DataFrame precisa conter colunas: {colunas_necessarias}\")\n",
    "    \n",
    "    # Configuração das bins\n",
    "    direcoes_bins = np.arange(0, 375, 15)  # 0-360° em passos de 15°\n",
    "    velocidades_bins = [0, 5, 10, 15, 20, 25, 30]\n",
    "    cores = ['#1f77b4', '#ff7f0e', '#2ca02c', '#d62728', '#9467bd', '#8c564b']\n",
    "    \n",
    "    # Criação de categorias\n",
    "    df = df.copy()\n",
    "    df['Direção_Cat'] = pd.cut(\n",
    "        df['Wind Direction'],\n",
    "        bins=direcoes_bins,\n",
    "        right=False\n",
    "    )\n",
    "    df['Velocidade_Cat'] = pd.cut(df['Wind Speed'], bins=velocidades_bins)\n",
    "    \n",
    "    # Agrupamento corrigido (observed=False para FutureWarning)\n",
    "    grupos = df.groupby(\n",
    "        ['Direção_Cat', 'Velocidade_Cat'], \n",
    "        observed=False  # Adicionado para suprimir warning\n",
    "    ).size().unstack(fill_value=0)\n",
    "    \n",
    "    # Configuração do gráfico polar\n",
    "    fig = plt.figure(figsize=(10, 8))\n",
    "    ax = fig.add_subplot(111, polar=True)\n",
    "    ax.set_theta_zero_location('N')\n",
    "    ax.set_theta_direction(-1)\n",
    "    \n",
    "    # Conversão para radianos (ajuste de 7.5° para centralizar nas bins)\n",
    "    angulos = np.deg2rad(direcoes_bins[:-1] + 7.5)\n",
    "    \n",
    "    # Plotagem das barras empilhadas\n",
    "    bottom = np.zeros(len(angulos))\n",
    "    for idx, velocidade in enumerate(grupos.columns):\n",
    "        valores = grupos[velocidade].values\n",
    "        ax.bar(\n",
    "            x=angulos,\n",
    "            height=valores,\n",
    "            width=np.deg2rad(15),\n",
    "            bottom=bottom,\n",
    "            color=cores[idx],\n",
    "            edgecolor='black',\n",
    "            label=f'{velocidade.left}-{velocidade.right} m/s'\n",
    "        )\n",
    "        bottom += valores\n",
    "    \n",
    "    # Correção dos rótulos (24 ticks → 24 labels)\n",
    "    ax.set_xticks(np.deg2rad(np.arange(0, 360, 15)))\n",
    "    ax.set_xticklabels([\n",
    "        'N' if i == 0 else \n",
    "        'E' if i == 90 else \n",
    "        'S' if i == 180 else \n",
    "        'O' if i == 270 else \n",
    "        '' for i in np.arange(0, 360, 15)\n",
    "    ])\n",
    "    \n",
    "    ax.set_title(titulo, pad=35, fontsize=14)\n",
    "    ax.legend(bbox_to_anchor=(1.15, 1), loc='upper left', title='Velocidade do Vento')\n",
    "    \n",
    "    plt.show()"
   ]
  },
  {
   "cell_type": "code",
   "execution_count": null,
   "id": "c3a10613-251c-4763-9d05-a9805cdeacc9",
   "metadata": {},
   "outputs": [],
   "source": [
    "plotar_rosa_dos_ventos(iguape20max, titulo='Horas 10% Mais Quentes')"
   ]
  },
  {
   "cell_type": "code",
   "execution_count": null,
   "id": "8ea29406-8ac8-4b35-ab5e-42d1ebfc332c",
   "metadata": {},
   "outputs": [],
   "source": []
  }
 ],
 "metadata": {
  "kernelspec": {
   "display_name": "Python 3 (ipykernel)",
   "language": "python",
   "name": "python3"
  },
  "language_info": {
   "codemirror_mode": {
    "name": "ipython",
    "version": 3
   },
   "file_extension": ".py",
   "mimetype": "text/x-python",
   "name": "python",
   "nbconvert_exporter": "python",
   "pygments_lexer": "ipython3",
   "version": "3.12.5"
  }
 },
 "nbformat": 4,
 "nbformat_minor": 5
}
