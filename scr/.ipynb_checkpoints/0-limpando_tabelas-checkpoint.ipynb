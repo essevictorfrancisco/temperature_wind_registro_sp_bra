{
 "cells": [
  {
   "cell_type": "code",
   "execution_count": 1,
   "id": "47114bb8-47ed-4f18-a03c-855dad092280",
   "metadata": {},
   "outputs": [],
   "source": [
    "# importando as bibliotecas necessarias\n",
    "import numpy as np\n",
    "import pandas as pd\n",
    "import seaborn as sns\n",
    "import matplotlib.pyplot as plt"
   ]
  },
  {
   "cell_type": "code",
   "execution_count": 2,
   "id": "9d5f5816-f548-4ba1-a7eb-a31ae4200747",
   "metadata": {},
   "outputs": [
    {
     "name": "stdout",
     "output_type": "stream",
     "text": [
      "NUMPY version 1.26.4\n",
      "PANDAS version 2.2.2\n",
      "SEABORN version 0.13.2\n"
     ]
    }
   ],
   "source": [
    "# conferindo as versões\n",
    "print('NUMPY version', np.__version__)\n",
    "print('PANDAS version', pd.__version__)\n",
    "print('SEABORN version', sns.__version__)"
   ]
  },
  {
   "cell_type": "code",
   "execution_count": 53,
   "id": "5321227c-d285-4b8e-9c8c-2ed30568482a",
   "metadata": {},
   "outputs": [],
   "source": [
    "# convertando o epw para o pandas e adicionando os nomes das colunas\n",
    "BRA_SP_Iguape = pd.read_csv(\n",
    "    '../climate_raw/BRA_SP_Iguape.869230_TMYx.2009-2023.epw', skiprows=8,\n",
    "    names=['Year','Month','Day','Hour','Minute','Source flags',\n",
    "             'Dry Bulb Temperature','Dew_Point Temperature',\n",
    "             'Relative Humidity','Atmospheric Station Pressure',\n",
    "             'Extraterrestrial Horizontal Radiation',\n",
    "             'Extraterrestrial Direct Normal Radiation',\n",
    "             'Horizontal Infrared Radiation Intensity',\n",
    "             'Global Horizontal Radiation','Direct Normal Radiation',\n",
    "             'Diffuse Horizontal Radiation','Global Horizontal Illuminance',\n",
    "             'Direct Normal Illuminance','Diffuse Horizontal Illuminance',\n",
    "             'Zenith Luminance','Wind Direction','Wind Speed',\n",
    "             'Total Sky Cover','Opaque Sky Cover','Visibility',\n",
    "             'Ceiling Height','Present Weather Observation',\n",
    "             'Present Weather Codes','Precipitable Water',\n",
    "             'Aerosol Optical Depth','Snow Depth','Days Since Last Snowfall',\n",
    "             'Albedo','Liquid Precipitation Depth',\n",
    "             'Liquid Precipitation Quantity'\n",
    "            ]\n",
    ")\n",
    "# a712_2019a = pd.read_csv('inmet_raw/a712_iguape_2019a.csv', delimiter=';')"
   ]
  },
  {
   "cell_type": "code",
   "execution_count": 54,
   "id": "5c7966cb-583f-446f-9c8d-fdf55c5d6d40",
   "metadata": {},
   "outputs": [
    {
     "data": {
      "text/plain": [
       "(8760, 4)"
      ]
     },
     "execution_count": 54,
     "metadata": {},
     "output_type": "execute_result"
    }
   ],
   "source": [
    "iguape_epw = BRA_SP_Iguape[[\n",
    "    'Dry Bulb Temperature','Relative Humidity','Wind Direction','Wind Speed'\n",
    "]]\n",
    "del BRA_SP_Iguape\n",
    "\n",
    "iguape_epw.shape\n",
    "\n",
    "def epw_read(epw_path):\n",
    "    df = pd.read_csv(\n",
    "        epw_path, skiprows=8,\n",
    "        names=['Year','Month','Day','Hour','Minute','Source flags',\n",
    "               'Dry Bulb Temperature','Dew_Point Temperature',\n",
    "               'Relative Humidity','Atmospheric Station Pressure',\n",
    "               'Extraterrestrial Horizontal Radiation',\n",
    "               'Extraterrestrial Direct Normal Radiation',\n",
    "               'Horizontal Infrared Radiation Intensity',\n",
    "               'Global Horizontal Radiation','Direct Normal Radiation',\n",
    "               'Diffuse Horizontal Radiation','Global Horizontal Illuminance',\n",
    "               'Direct Normal Illuminance','Diffuse Horizontal Illuminance',\n",
    "             'Zenith Luminance','Wind Direction','Wind Speed',\n",
    "             'Total Sky Cover','Opaque Sky Cover','Visibility',\n",
    "             'Ceiling Height','Present Weather Observation',\n",
    "             'Present Weather Codes','Precipitable Water',\n",
    "             'Aerosol Optical Depth','Snow Depth','Days Since Last Snowfall',\n",
    "             'Albedo','Liquid Precipitation Depth',\n",
    "             'Liquid Precipitation Quantity'\n",
    "            ]\n",
    "    )"
   ]
  },
  {
   "cell_type": "code",
   "execution_count": 62,
   "id": "a7c108b5-f370-4f0a-b050-3e8aa8da16ed",
   "metadata": {},
   "outputs": [
    {
     "name": "stdout",
     "output_type": "stream",
     "text": [
      "1751\n"
     ]
    }
   ],
   "source": [
    "# calculando os 20% do total das linhas\n",
    "pos20 = int(iguape_epw.shape[0] * 0.2 - 1)\n",
    "print(pos20)"
   ]
  },
  {
   "cell_type": "code",
   "execution_count": 63,
   "id": "457e0d92-fb16-4f70-a807-db60480bef41",
   "metadata": {},
   "outputs": [],
   "source": [
    "iguape20min = iguape_epw.sort_values(\n",
    "    by='Dry Bulb Temperature', ascending=True\n",
    ")\n",
    "\n",
    "iguape20min = iguape20min.iloc[:pos20].copy()"
   ]
  },
  {
   "cell_type": "code",
   "execution_count": 64,
   "id": "7a44826c-b36d-443f-8e74-6c50837e1663",
   "metadata": {},
   "outputs": [
    {
     "data": {
      "text/plain": [
       "(1751, 4)"
      ]
     },
     "execution_count": 64,
     "metadata": {},
     "output_type": "execute_result"
    }
   ],
   "source": [
    "iguape20min.shape"
   ]
  },
  {
   "cell_type": "code",
   "execution_count": 65,
   "id": "ce8bf7b3-acba-41a5-b954-0a49ca6ea23a",
   "metadata": {},
   "outputs": [],
   "source": [
    "iguape20max = iguape_epw.sort_values(\n",
    "    by='Dry Bulb Temperature', ascending=False\n",
    ")\n",
    "\n",
    "iguape20max = iguape20max.iloc[:pos20].copy()"
   ]
  },
  {
   "cell_type": "code",
   "execution_count": 66,
   "id": "8ee64ddb-28b1-4373-86d5-b4aa6fc30ece",
   "metadata": {},
   "outputs": [
    {
     "data": {
      "text/plain": [
       "(1751, 4)"
      ]
     },
     "execution_count": 66,
     "metadata": {},
     "output_type": "execute_result"
    }
   ],
   "source": [
    "iguape20max.shape"
   ]
  },
  {
   "cell_type": "code",
   "execution_count": 67,
   "id": "fb7e916b-64c0-419d-9f44-4743d3589c94",
   "metadata": {},
   "outputs": [],
   "source": [
    "# pasta onde salvar os arquivos limpos\n",
    "folder = '../climate_csv/'\n",
    "\n",
    "iguape_epw.to_csv(f'{folder}iguape_epw_365.csv')\n",
    "iguape20min.to_csv(f'{folder}iguape_epw_min.csv')\n",
    "iguape20max.to_csv(f'{folder}iguape_epw_max.csv')"
   ]
  },
  {
   "cell_type": "code",
   "execution_count": null,
   "id": "ae4ba287-3f74-40c5-b118-8a49e8cb48df",
   "metadata": {},
   "outputs": [],
   "source": []
  }
 ],
 "metadata": {
  "kernelspec": {
   "display_name": "Python 3 (ipykernel)",
   "language": "python",
   "name": "python3"
  },
  "language_info": {
   "codemirror_mode": {
    "name": "ipython",
    "version": 3
   },
   "file_extension": ".py",
   "mimetype": "text/x-python",
   "name": "python",
   "nbconvert_exporter": "python",
   "pygments_lexer": "ipython3",
   "version": "3.12.5"
  }
 },
 "nbformat": 4,
 "nbformat_minor": 5
}
