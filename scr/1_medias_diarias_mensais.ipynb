{
 "cells": [
  {
   "cell_type": "markdown",
   "id": "5f784c35-290d-4d4b-bcaa-f5273fba5fc7",
   "metadata": {},
   "source": [
    "#  CALCULANDO AS MÉDIAS DIÁRIAS E MENSAIS"
   ]
  },
  {
   "cell_type": "code",
   "execution_count": 1,
   "id": "42668a16-bd65-4a78-a63c-714ce5c54c4f",
   "metadata": {},
   "outputs": [],
   "source": [
    "from processamento_dados import *"
   ]
  },
  {
   "cell_type": "code",
   "execution_count": 2,
   "id": "740185ae-6172-41c8-bed8-2623254f11cb",
   "metadata": {},
   "outputs": [
    {
     "name": "stdout",
     "output_type": "stream",
     "text": [
      "Carregando iguape_all_hours.csv\n",
      "Calcular média diaria de iguape_all_hours.csv\n",
      "iguape_epw_diaria tem 8760 linhas e 5 colunas.\n",
      "Calcular média semanal de iguape_all_hours.csv\n",
      "iguape_epw_semanal tem 8760 linhas e 5 colunas.\n",
      "Calcular média mensal de iguape_all_hours.csv\n",
      "iguape_epw_mensal tem 8760 linhas e 5 colunas.\n",
      "Carregando inmet_2019.csv\n",
      "Calcular média diaria de inmet_2019.csv\n",
      "inmet_2019_diaria tem 8760 linhas e 5 colunas.\n",
      "Calcular média semanal de inmet_2019.csv\n",
      "inmet_2019_semanal tem 8760 linhas e 5 colunas.\n",
      "Calcular média mensal de inmet_2019.csv\n",
      "inmet_2019_mensal tem 8760 linhas e 5 colunas.\n",
      "Carregando inmet_2020.csv\n",
      "Calcular média diaria de inmet_2020.csv\n",
      "inmet_2020_diaria tem 8760 linhas e 5 colunas.\n",
      "Calcular média semanal de inmet_2020.csv\n",
      "inmet_2020_semanal tem 8760 linhas e 5 colunas.\n",
      "Calcular média mensal de inmet_2020.csv\n",
      "inmet_2020_mensal tem 8760 linhas e 5 colunas.\n",
      "Carregando inmet_2021.csv\n",
      "Calcular média diaria de inmet_2021.csv\n",
      "inmet_2021_diaria tem 8760 linhas e 5 colunas.\n",
      "Calcular média semanal de inmet_2021.csv\n",
      "inmet_2021_semanal tem 8760 linhas e 5 colunas.\n",
      "Calcular média mensal de inmet_2021.csv\n",
      "inmet_2021_mensal tem 8760 linhas e 5 colunas.\n",
      "Carregando inmet_2022.csv\n",
      "Calcular média diaria de inmet_2022.csv\n",
      "inmet_2022_diaria tem 8760 linhas e 5 colunas.\n",
      "Calcular média semanal de inmet_2022.csv\n",
      "inmet_2022_semanal tem 8760 linhas e 5 colunas.\n",
      "Calcular média mensal de inmet_2022.csv\n",
      "inmet_2022_mensal tem 8760 linhas e 5 colunas.\n",
      "Carregando inmet_2023.csv\n",
      "Calcular média diaria de inmet_2023.csv\n",
      "inmet_2023_diaria tem 8760 linhas e 5 colunas.\n",
      "Calcular média semanal de inmet_2023.csv\n",
      "inmet_2023_semanal tem 8760 linhas e 5 colunas.\n",
      "Calcular média mensal de inmet_2023.csv\n",
      "inmet_2023_mensal tem 8760 linhas e 5 colunas.\n",
      "Carregando inmet_2024.csv\n",
      "Calcular média diaria de inmet_2024.csv\n",
      "inmet_2024_diaria tem 8760 linhas e 5 colunas.\n",
      "Calcular média semanal de inmet_2024.csv\n",
      "inmet_2024_semanal tem 8760 linhas e 5 colunas.\n",
      "Calcular média mensal de inmet_2024.csv\n",
      "inmet_2024_mensal tem 8760 linhas e 5 colunas.\n"
     ]
    }
   ],
   "source": [
    "import_folder = '../climate_csv/'\n",
    "export_folder = '../climate_csv/'\n",
    "csv_name = 'iguape_all_hours'\n",
    "\n",
    "my_csv = {'iguape_epw': 'iguape_all_hours',\n",
    "          'inmet_2019': 'inmet_2019',\n",
    "          'inmet_2020': 'inmet_2020',\n",
    "          'inmet_2021': 'inmet_2021',\n",
    "          'inmet_2022': 'inmet_2022',\n",
    "          'inmet_2023': 'inmet_2023',\n",
    "          'inmet_2024': 'inmet_2024',\n",
    "         }\n",
    "\n",
    "periodos = {'diaria': 'D', 'semanal': 'W', 'mensal': 'ME'}\n",
    "datetime_column = 'Datetime'\n",
    "\n",
    "for key, value in my_csv.items():\n",
    "    print(f'Carregando {value}.csv')\n",
    "    df = pd.read_csv(f'{import_folder}{csv_name}.csv',parse_dates=True)\n",
    "    df[datetime_column] = pd.to_datetime(df[datetime_column])\n",
    "    df.set_index(datetime_column, inplace=True)\n",
    "    for name, period in periodos.items():\n",
    "        print(f'Calcular média {name} de {value}.csv')\n",
    "        new_df = calculate_metrics_by_period(\n",
    "            df=df,\n",
    "            period=period,\n",
    "            df_name=f'{key}_{name}'\n",
    "        )\n",
    "        new_df.to_csv(f'{export_folder}{key}_{name}.csv')"
   ]
  },
  {
   "cell_type": "code",
   "execution_count": 3,
   "id": "81e50eb4-60a9-488e-bdf1-6381fc733203",
   "metadata": {},
   "outputs": [],
   "source": [
    "from limpar_csv import *"
   ]
  },
  {
   "cell_type": "code",
   "execution_count": 7,
   "id": "3a8037d2-149c-41de-babe-a13273c24879",
   "metadata": {},
   "outputs": [],
   "source": [
    "csv_path = '../inmet_raw/a712_iguape_2022a.csv'"
   ]
  },
  {
   "cell_type": "code",
   "execution_count": 8,
   "id": "6cf377c7-e3c6-4f94-b874-5802fe75b6ae",
   "metadata": {},
   "outputs": [],
   "source": [
    "df = inmet_to_pandas(csv_path)"
   ]
  },
  {
   "cell_type": "code",
   "execution_count": 26,
   "id": "723846e4-0f2a-45b6-8871-74e8f6d0247b",
   "metadata": {},
   "outputs": [
    {
     "data": {
      "text/plain": [
       "(4344, 25)"
      ]
     },
     "execution_count": 26,
     "metadata": {},
     "output_type": "execute_result"
    }
   ],
   "source": [
    "df.shape"
   ]
  },
  {
   "cell_type": "code",
   "execution_count": 27,
   "id": "f589fde0-3a90-4bff-ba7a-9f39cdba5a9c",
   "metadata": {},
   "outputs": [
    {
     "data": {
      "text/plain": [
       "(2241, 25)"
      ]
     },
     "execution_count": 27,
     "metadata": {},
     "output_type": "execute_result"
    }
   ],
   "source": [
    "df[df['Temp. Ins. (C)'].notna()].fillna(0).shape"
   ]
  },
  {
   "cell_type": "code",
   "execution_count": 17,
   "id": "cc9c5ad9-5ce6-44ae-8858-e8cbad878bc8",
   "metadata": {},
   "outputs": [],
   "source": [
    "aggregations = {\n",
    "        'Temp': ['max', 'min', 'mean','std','median'],\n",
    "        'Umi': ['max', 'min', 'mean','std','median'],\n",
    "        'Vel_vento': ['max', 'min', 'mean','std','median'],\n",
    "        'Dir_vento': ['mean','std','median'],\n",
    "        'Chuva': ['sum','std']\n",
    "    }"
   ]
  },
  {
   "cell_type": "code",
   "execution_count": 20,
   "id": "c37f7e0c-505d-44dc-b776-388e7176b017",
   "metadata": {},
   "outputs": [
    {
     "data": {
      "text/plain": [
       "'Temp'"
      ]
     },
     "execution_count": 20,
     "metadata": {},
     "output_type": "execute_result"
    }
   ],
   "source": [
    "list(aggregations.keys())[0]"
   ]
  },
  {
   "cell_type": "code",
   "execution_count": 25,
   "id": "89ff71c8-8fbe-4abb-b9bf-8528a8c42e8e",
   "metadata": {},
   "outputs": [
    {
     "ename": "TypeError",
     "evalue": "'dict_items' object is not subscriptable",
     "output_type": "error",
     "traceback": [
      "\u001b[1;31m---------------------------------------------------------------------------\u001b[0m",
      "\u001b[1;31mTypeError\u001b[0m                                 Traceback (most recent call last)",
      "Cell \u001b[1;32mIn[25], line 1\u001b[0m\n\u001b[1;32m----> 1\u001b[0m aggregations\u001b[38;5;241m.\u001b[39mitems()[\u001b[38;5;241m0\u001b[39m][\u001b[38;5;241m0\u001b[39m]\n",
      "\u001b[1;31mTypeError\u001b[0m: 'dict_items' object is not subscriptable"
     ]
    }
   ],
   "source": [
    "aggregations.items()[0][0]"
   ]
  },
  {
   "cell_type": "code",
   "execution_count": null,
   "id": "52959ce2-d475-443a-9269-6fba30fe70aa",
   "metadata": {},
   "outputs": [],
   "source": [
    "df.fillna()"
   ]
  }
 ],
 "metadata": {
  "kernelspec": {
   "display_name": "Python 3 (ipykernel)",
   "language": "python",
   "name": "python3"
  },
  "language_info": {
   "codemirror_mode": {
    "name": "ipython",
    "version": 3
   },
   "file_extension": ".py",
   "mimetype": "text/x-python",
   "name": "python",
   "nbconvert_exporter": "python",
   "pygments_lexer": "ipython3",
   "version": "3.11.7"
  }
 },
 "nbformat": 4,
 "nbformat_minor": 5
}
